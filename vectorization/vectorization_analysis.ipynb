{
 "cells": [
  {
   "cell_type": "code",
   "id": "initial_id",
   "metadata": {
    "collapsed": true,
    "ExecuteTime": {
     "end_time": "2025-06-10T17:55:40.865773Z",
     "start_time": "2025-06-10T17:55:34.065223Z"
    }
   },
   "source": [
    "from vectorize import apply_tfidf, apply_doc2vec, apply_sbert\n",
    "import pandas as pd\n",
    "import pickle\n",
    "from scipy import sparse"
   ],
   "outputs": [
    {
     "name": "stderr",
     "output_type": "stream",
     "text": [
      "C:\\Users\\fidel\\miniconda3\\envs\\ML-XAI\\Lib\\site-packages\\tqdm\\auto.py:21: TqdmWarning: IProgress not found. Please update jupyter and ipywidgets. See https://ipywidgets.readthedocs.io/en/stable/user_install.html\n",
      "  from .autonotebook import tqdm as notebook_tqdm\n"
     ]
    }
   ],
   "execution_count": 1
  },
  {
   "metadata": {
    "ExecuteTime": {
     "end_time": "2025-06-10T17:55:40.982904Z",
     "start_time": "2025-06-10T17:55:40.870125Z"
    }
   },
   "cell_type": "code",
   "source": "df = pd.read_csv(\"../data/20newsgroup_preprocessed.csv\")",
   "id": "5db6096f409a4edc",
   "outputs": [],
   "execution_count": 2
  },
  {
   "metadata": {},
   "cell_type": "markdown",
   "source": "## TF_IDF",
   "id": "878e2b1896a94feb"
  },
  {
   "metadata": {
    "ExecuteTime": {
     "end_time": "2025-06-10T17:55:42.228114Z",
     "start_time": "2025-06-10T17:55:41.135937Z"
    }
   },
   "cell_type": "code",
   "source": [
    "df['text'] = df['text'].fillna('')\n",
    "\n",
    "X_tfidf, tfidf_vectorizer = apply_tfidf(df['text'])\n",
    "\n",
    "tfidf_df = pd.DataFrame(\n",
    "    X_tfidf.toarray(),\n",
    "    columns=tfidf_vectorizer.get_feature_names_out()\n",
    ")\n",
    "\n",
    "print(tfidf_df.head())\n",
    "\n"
   ],
   "id": "5e8ae64fd6c5f932",
   "outputs": [
    {
     "name": "stdout",
     "output_type": "stream",
     "text": [
      "       know      like  make  max  people       say     think      time  \\\n",
      "0  0.000000  0.000000   0.0  0.0     0.0  0.000000  0.000000  0.000000   \n",
      "1  0.000000  0.000000   0.0  0.0     0.0  0.000000  0.000000  0.000000   \n",
      "2  0.274288  0.538081   0.0  0.0     0.0  0.659069  0.000000  0.294878   \n",
      "3  0.000000  0.000000   0.0  0.0     0.0  0.000000  0.711315  0.702874   \n",
      "4  0.499629  0.000000   0.0  0.0     0.0  0.000000  0.000000  0.000000   \n",
      "\n",
      "       use      year  \n",
      "0  0.00000  0.000000  \n",
      "1  0.00000  0.000000  \n",
      "2  0.00000  0.337506  \n",
      "3  0.00000  0.000000  \n",
      "4  0.86624  0.000000  \n"
     ]
    }
   ],
   "execution_count": 3
  },
  {
   "metadata": {
    "ExecuteTime": {
     "end_time": "2025-06-10T18:03:33.721536Z",
     "start_time": "2025-06-10T18:03:33.701244Z"
    }
   },
   "cell_type": "code",
   "source": [
    "# Save the sparse matrix\n",
    "sparse.save_npz('X_tfidf.npz', X_tfidf)\n",
    "\n",
    "# Save the fitted vectorizer\n",
    "with open('vectorization_artifacts/tf_idf/tfidf_vectorizer.pkl', 'wb') as f:\n",
    "    pickle.dump(tfidf_vectorizer, f)\n",
    "\n",
    "with open('vectorization_artifacts/tf_idf/labels.pkl', 'wb') as f:\n",
    "    pickle.dump(df['target_name'], f)\n"
   ],
   "id": "b701e28924540852",
   "outputs": [],
   "execution_count": 7
  },
  {
   "metadata": {},
   "cell_type": "markdown",
   "source": "## Doc2vec",
   "id": "d7fd1b04dc3087ae"
  },
  {
   "metadata": {
    "ExecuteTime": {
     "end_time": "2025-06-10T17:55:42.336164Z",
     "start_time": "2025-06-10T17:55:42.333277Z"
    }
   },
   "cell_type": "code",
   "source": "#vectors, model = apply_doc2vec(df['text'])",
   "id": "e3bca75506a4cdb",
   "outputs": [],
   "execution_count": 5
  }
 ],
 "metadata": {
  "kernelspec": {
   "display_name": "Python 3",
   "language": "python",
   "name": "python3"
  },
  "language_info": {
   "codemirror_mode": {
    "name": "ipython",
    "version": 2
   },
   "file_extension": ".py",
   "mimetype": "text/x-python",
   "name": "python",
   "nbconvert_exporter": "python",
   "pygments_lexer": "ipython2",
   "version": "2.7.6"
  }
 },
 "nbformat": 4,
 "nbformat_minor": 5
}
