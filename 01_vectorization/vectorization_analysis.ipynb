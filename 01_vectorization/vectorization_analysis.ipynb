{
 "cells": [
  {
   "metadata": {
    "ExecuteTime": {
     "end_time": "2025-06-12T10:11:58.361953Z",
     "start_time": "2025-06-12T10:11:46.128493Z"
    }
   },
   "cell_type": "code",
   "source": [
    "from vectorize import apply_tfidf, apply_doc2vec, apply_sbert\n",
    "import pandas as pd\n",
    "import numpy as np\n",
    "import pickle\n",
    "from scipy import sparse"
   ],
   "id": "ccfd608ee62a6e01",
   "outputs": [
    {
     "name": "stderr",
     "output_type": "stream",
     "text": [
      "C:\\Users\\fidel\\miniconda3\\envs\\ML-XAI\\Lib\\site-packages\\tqdm\\auto.py:21: TqdmWarning: IProgress not found. Please update jupyter and ipywidgets. See https://ipywidgets.readthedocs.io/en/stable/user_install.html\n",
      "  from .autonotebook import tqdm as notebook_tqdm\n"
     ]
    }
   ],
   "execution_count": 1
  },
  {
   "metadata": {
    "ExecuteTime": {
     "end_time": "2025-06-12T10:11:59.933873Z",
     "start_time": "2025-06-12T10:11:59.778949Z"
    }
   },
   "cell_type": "code",
   "source": "df = pd.read_csv(\"../00_data_cleaning/out/20newsgroup_preprocessed.csv\")",
   "id": "6817fad2efd1891",
   "outputs": [],
   "execution_count": 2
  },
  {
   "metadata": {},
   "cell_type": "markdown",
   "source": "## TF_IDF",
   "id": "d8fffe84cfec0826"
  },
  {
   "metadata": {
    "ExecuteTime": {
     "end_time": "2025-06-12T11:22:19.229565Z",
     "start_time": "2025-06-12T11:22:17.792966Z"
    }
   },
   "cell_type": "code",
   "source": [
    "df[\"text\"] = df[\"text\"].fillna(\"\")\n",
    "\n",
    "X_tfidf, tfidf_vectorizer = apply_tfidf(\n",
    "    df[\"text\"], 50\n",
    ")  # TODO: adjust features_ctr as needed\n",
    "\n",
    "tfidf_df = pd.DataFrame(\n",
    "    X_tfidf.toarray(), columns=tfidf_vectorizer.get_feature_names_out()\n",
    ")\n",
    "\n",
    "print(tfidf_df.head())"
   ],
   "id": "7779226e08c60a9f",
   "outputs": [
    {
     "name": "stdout",
     "output_type": "stream",
     "text": [
      "   available  believe    better   ca  case  come  day     drive  file  \\\n",
      "0        0.0      0.0  0.319527  0.0   0.0   0.0  0.0  0.000000   0.0   \n",
      "1        0.0      0.0  0.000000  0.0   0.0   0.0  0.0  0.000000   0.0   \n",
      "2        0.0      0.0  0.000000  0.0   0.0   0.0  0.0  0.000000   0.0   \n",
      "3        0.0      0.0  0.000000  0.0   0.0   0.0  0.0  0.000000   0.0   \n",
      "4        0.0      0.0  0.000000  0.0   0.0   0.0  0.0  0.688057   0.0   \n",
      "\n",
      "       game  ...     think      time       use      used  using      want  \\\n",
      "0  0.702483  ...  0.000000  0.000000  0.000000  0.000000    0.0  0.000000   \n",
      "1  0.000000  ...  0.000000  0.000000  0.000000  0.000000    0.0  0.000000   \n",
      "2  0.000000  ...  0.000000  0.215766  0.000000  0.000000    0.0  0.000000   \n",
      "3  0.000000  ...  0.464721  0.459206  0.000000  0.545915    0.0  0.524538   \n",
      "4  0.000000  ...  0.000000  0.000000  0.505965  0.186489    0.0  0.000000   \n",
      "\n",
      "   way  window      work      year  \n",
      "0  0.0     0.0  0.000000  0.000000  \n",
      "1  0.0     0.0  0.000000  0.000000  \n",
      "2  0.0     0.0  0.000000  0.246958  \n",
      "3  0.0     0.0  0.000000  0.000000  \n",
      "4  0.0     0.0  0.181403  0.000000  \n",
      "\n",
      "[5 rows x 50 columns]\n"
     ]
    }
   ],
   "execution_count": 5
  },
  {
   "metadata": {},
   "cell_type": "markdown",
   "source": "## Save Artifacts (sparse matrix, model, labels)",
   "id": "b8358ebbf6a8f40e"
  },
  {
   "metadata": {
    "ExecuteTime": {
     "end_time": "2025-06-12T11:22:23.547261Z",
     "start_time": "2025-06-12T11:22:23.540504Z"
    }
   },
   "cell_type": "code",
   "source": [
    "with open(\"out/tf_idf/X_tfidf.npz\", \"wb\") as f:\n",
    "    pickle.dump(X_tfidf, f)\n",
    "\n",
    "with open(\"out/tf_idf/tfidf_vectorizer.pkl\", \"wb\") as f:\n",
    "    pickle.dump(tfidf_vectorizer, f)"
   ],
   "id": "d4269a3099c021e8",
   "outputs": [],
   "execution_count": 6
  },
  {
   "metadata": {},
   "cell_type": "markdown",
   "source": "## Doc2vec",
   "id": "83079af2eec363bb"
  },
  {
   "metadata": {},
   "cell_type": "code",
   "outputs": [],
   "execution_count": null,
   "source": [
    "d2v_vectors, d2v_model = apply_doc2vec(df[\"text\"])\n",
    "\n",
    "vectors = np.array(d2v_vectors)\n",
    "\n",
    "np.save(\"out/doc2vec/d2v_vectors.npy\", vectors)\n",
    "d2v_model.save(\"out/doc2vec/d2v_model.model\")"
   ],
   "id": "e8f6ccf0ae885147"
  },
  {
   "metadata": {},
   "cell_type": "markdown",
   "source": "## SBERT",
   "id": "525fa04ce3192672"
  },
  {
   "metadata": {},
   "cell_type": "code",
   "outputs": [],
   "execution_count": null,
   "source": [
    "sbert_vectors, sbert_model = apply_sbert(df[\"text\"])\n",
    "\n",
    "vectors = np.array(sbert_vectors)\n",
    "\n",
    "np.save(\"out/sbert/sbert_vectors.npy\", vectors)\n",
    "sbert_model.save(\"out/sbert/sbert_model.model\")"
   ],
   "id": "5114aa10d9037c6f"
  }
 ],
 "metadata": {
  "kernelspec": {
   "display_name": ".venv",
   "language": "python",
   "name": "python3"
  },
  "language_info": {
   "codemirror_mode": {
    "name": "ipython",
    "version": 3
   },
   "file_extension": ".py",
   "mimetype": "text/x-python",
   "name": "python",
   "nbconvert_exporter": "python",
   "pygments_lexer": "ipython3",
   "version": "3.10.11"
  }
 },
 "nbformat": 4,
 "nbformat_minor": 5
}
