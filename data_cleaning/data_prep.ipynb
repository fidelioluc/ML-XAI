{
 "cells": [
  {
   "cell_type": "code",
   "id": "initial_id",
   "metadata": {
    "collapsed": true,
    "ExecuteTime": {
     "end_time": "2025-06-08T16:33:38.914825Z",
     "start_time": "2025-06-08T16:33:38.905437Z"
    }
   },
   "source": [
    "from sklearn.datasets import fetch_20newsgroups\n",
    "import pandas as pd\n",
    "import re\n",
    "from nltk.corpus import stopwords\n",
    "from nltk.stem import WordNetLemmatizer\n",
    "from nltk.tokenize import word_tokenize\n",
    "import string\n",
    "import nltk\n",
    "nltk.download('punkt_tab')\n",
    "nltk.download('stopwords')\n",
    "nltk.download('wordnet')\n",
    "nltk.download('omw-1.4')\n"
   ],
   "outputs": [
    {
     "name": "stderr",
     "output_type": "stream",
     "text": [
      "[nltk_data] Downloading package punkt_tab to\n",
      "[nltk_data]     C:\\Users\\fidel\\AppData\\Roaming\\nltk_data...\n",
      "[nltk_data]   Package punkt_tab is already up-to-date!\n",
      "[nltk_data] Downloading package stopwords to\n",
      "[nltk_data]     C:\\Users\\fidel\\AppData\\Roaming\\nltk_data...\n",
      "[nltk_data]   Package stopwords is already up-to-date!\n",
      "[nltk_data] Downloading package wordnet to\n",
      "[nltk_data]     C:\\Users\\fidel\\AppData\\Roaming\\nltk_data...\n",
      "[nltk_data]   Package wordnet is already up-to-date!\n",
      "[nltk_data] Downloading package omw-1.4 to\n",
      "[nltk_data]     C:\\Users\\fidel\\AppData\\Roaming\\nltk_data...\n",
      "[nltk_data]   Package omw-1.4 is already up-to-date!\n"
     ]
    },
    {
     "data": {
      "text/plain": [
       "True"
      ]
     },
     "execution_count": 15,
     "metadata": {},
     "output_type": "execute_result"
    }
   ],
   "execution_count": 15
  },
  {
   "metadata": {
    "ExecuteTime": {
     "end_time": "2025-06-08T16:33:41.660665Z",
     "start_time": "2025-06-08T16:33:38.954918Z"
    }
   },
   "cell_type": "code",
   "source": [
    "data = fetch_20newsgroups(subset='all',remove=('headers', 'footers', 'quotes'))\n",
    "df = pd.DataFrame({\n",
    "    'text': data.data,\n",
    "    'target': data.target,\n",
    "    'target_name': [data.target_names[i] for i in data.target]\n",
    "})\n",
    "df.head()\n"
   ],
   "id": "66cf9407cfe37c23",
   "outputs": [
    {
     "data": {
      "text/plain": [
       "                                                text  target  \\\n",
       "0  \\n\\nI am sure some bashers of Pens fans are pr...      10   \n",
       "1  My brother is in the market for a high-perform...       3   \n",
       "2  \\n\\n\\n\\n\\tFinally you said what you dream abou...      17   \n",
       "3  \\nThink!\\n\\nIt's the SCSI card doing the DMA t...       3   \n",
       "4  1)    I have an old Jasmine drive which I cann...       4   \n",
       "\n",
       "                target_name  \n",
       "0          rec.sport.hockey  \n",
       "1  comp.sys.ibm.pc.hardware  \n",
       "2     talk.politics.mideast  \n",
       "3  comp.sys.ibm.pc.hardware  \n",
       "4     comp.sys.mac.hardware  "
      ],
      "text/html": [
       "<div>\n",
       "<style scoped>\n",
       "    .dataframe tbody tr th:only-of-type {\n",
       "        vertical-align: middle;\n",
       "    }\n",
       "\n",
       "    .dataframe tbody tr th {\n",
       "        vertical-align: top;\n",
       "    }\n",
       "\n",
       "    .dataframe thead th {\n",
       "        text-align: right;\n",
       "    }\n",
       "</style>\n",
       "<table border=\"1\" class=\"dataframe\">\n",
       "  <thead>\n",
       "    <tr style=\"text-align: right;\">\n",
       "      <th></th>\n",
       "      <th>text</th>\n",
       "      <th>target</th>\n",
       "      <th>target_name</th>\n",
       "    </tr>\n",
       "  </thead>\n",
       "  <tbody>\n",
       "    <tr>\n",
       "      <th>0</th>\n",
       "      <td>\\n\\nI am sure some bashers of Pens fans are pr...</td>\n",
       "      <td>10</td>\n",
       "      <td>rec.sport.hockey</td>\n",
       "    </tr>\n",
       "    <tr>\n",
       "      <th>1</th>\n",
       "      <td>My brother is in the market for a high-perform...</td>\n",
       "      <td>3</td>\n",
       "      <td>comp.sys.ibm.pc.hardware</td>\n",
       "    </tr>\n",
       "    <tr>\n",
       "      <th>2</th>\n",
       "      <td>\\n\\n\\n\\n\\tFinally you said what you dream abou...</td>\n",
       "      <td>17</td>\n",
       "      <td>talk.politics.mideast</td>\n",
       "    </tr>\n",
       "    <tr>\n",
       "      <th>3</th>\n",
       "      <td>\\nThink!\\n\\nIt's the SCSI card doing the DMA t...</td>\n",
       "      <td>3</td>\n",
       "      <td>comp.sys.ibm.pc.hardware</td>\n",
       "    </tr>\n",
       "    <tr>\n",
       "      <th>4</th>\n",
       "      <td>1)    I have an old Jasmine drive which I cann...</td>\n",
       "      <td>4</td>\n",
       "      <td>comp.sys.mac.hardware</td>\n",
       "    </tr>\n",
       "  </tbody>\n",
       "</table>\n",
       "</div>"
      ]
     },
     "execution_count": 16,
     "metadata": {},
     "output_type": "execute_result"
    }
   ],
   "execution_count": 16
  },
  {
   "metadata": {},
   "cell_type": "markdown",
   "source": "# Check if target_names occur in the texts",
   "id": "79c9d2a9fe304b71"
  },
  {
   "metadata": {
    "ExecuteTime": {
     "end_time": "2025-06-08T16:33:43.741009Z",
     "start_time": "2025-06-08T16:33:42.103116Z"
    }
   },
   "cell_type": "code",
   "source": [
    "# Function to count how many documents contain the target_name at least once\n",
    "def count_target_mentions(dataframe):\n",
    "    count = 0\n",
    "    for _, row in dataframe.iterrows():\n",
    "        name = row['target_name'].lower()\n",
    "        text = row['text'].lower()\n",
    "        if name in text:\n",
    "            count += 1\n",
    "    return count\n",
    "\n",
    "total_mentions = count_target_mentions(df)\n",
    "print(f\"\\nDocuments where the target name appears in the text: {total_mentions} out of {len(df)}\")\n"
   ],
   "id": "c37e250f6187dd15",
   "outputs": [
    {
     "name": "stdout",
     "output_type": "stream",
     "text": [
      "\n",
      "Documents where the target name appears in the text: 350 out of 18846\n"
     ]
    }
   ],
   "execution_count": 17
  },
  {
   "metadata": {},
   "cell_type": "markdown",
   "source": "# Remove target_names",
   "id": "6929aa4c228421b"
  },
  {
   "metadata": {
    "ExecuteTime": {
     "end_time": "2025-06-08T16:33:45.387454Z",
     "start_time": "2025-06-08T16:33:43.799736Z"
    }
   },
   "cell_type": "code",
   "source": [
    "def remove_target_name(row):\n",
    "    name = re.escape(row['target_name'])  # Handle special chars\n",
    "    pattern = re.compile(name, re.IGNORECASE)\n",
    "    return pattern.sub('', row['text'])\n",
    "\n",
    "# Overwrite the 'text' column directly\n",
    "df['text'] = df.apply(remove_target_name, axis=1)\n",
    "\n",
    "total_mentions = count_target_mentions(df)\n",
    "print(f\"\\nDocuments where the target name appears in the text: {total_mentions} out of {len(df)}\")\n",
    "\n",
    "#print(df.head())\n"
   ],
   "id": "8dfe8fb806beb03c",
   "outputs": [
    {
     "name": "stdout",
     "output_type": "stream",
     "text": [
      "\n",
      "Documents where the target name appears in the text: 0 out of 18846\n"
     ]
    }
   ],
   "execution_count": 18
  },
  {
   "metadata": {},
   "cell_type": "markdown",
   "source": "# Lemmatization (nltk & pywsd",
   "id": "e321b327911b2908"
  },
  {
   "metadata": {
    "ExecuteTime": {
     "end_time": "2025-06-08T16:33:45.423404Z",
     "start_time": "2025-06-08T16:33:45.404484Z"
    }
   },
   "cell_type": "code",
   "source": [
    "stop_words = set(stopwords.words('english'))\n",
    "lemmatizer = WordNetLemmatizer()\n",
    "\n",
    "def preprocess_text(text):\n",
    "    tokens = word_tokenize(text.lower())  # tokenize & lowercase\n",
    "    filtered = [lemmatizer.lemmatize(word) for word in tokens if word.isalpha() and word not in stop_words]\n",
    "    return \" \".join(filtered)"
   ],
   "id": "c2dace10d7aa17b8",
   "outputs": [],
   "execution_count": 19
  },
  {
   "metadata": {
    "ExecuteTime": {
     "end_time": "2025-06-08T16:34:14.760030Z",
     "start_time": "2025-06-08T16:33:45.632598Z"
    }
   },
   "cell_type": "code",
   "source": "df['text'] = df['text'].apply(preprocess_text)",
   "id": "b3ffc279eb88d897",
   "outputs": [],
   "execution_count": 20
  },
  {
   "metadata": {
    "ExecuteTime": {
     "end_time": "2025-06-08T16:34:32.176336Z",
     "start_time": "2025-06-08T16:34:31.975833Z"
    }
   },
   "cell_type": "code",
   "source": [
    "df.head()\n",
    "#df.to(\"20newsgroup_preprocessed.pkl\")\n",
    "df.to_csv(\"20newsgroup_preprocessed.csv\", index=False)"
   ],
   "id": "db6c2e6dc620d409",
   "outputs": [],
   "execution_count": 22
  }
 ],
 "metadata": {
  "kernelspec": {
   "display_name": "Python 3",
   "language": "python",
   "name": "python3"
  },
  "language_info": {
   "codemirror_mode": {
    "name": "ipython",
    "version": 2
   },
   "file_extension": ".py",
   "mimetype": "text/x-python",
   "name": "python",
   "nbconvert_exporter": "python",
   "pygments_lexer": "ipython2",
   "version": "2.7.6"
  }
 },
 "nbformat": 4,
 "nbformat_minor": 5
}
