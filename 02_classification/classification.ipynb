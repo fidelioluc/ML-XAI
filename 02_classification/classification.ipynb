{
 "cells": [
  {
   "metadata": {},
   "cell_type": "markdown",
   "source": "# import TF-IDF, Doc2Vec, SBERT",
   "id": "8a9fe5781b160bbc"
  },
  {
   "metadata": {
    "ExecuteTime": {
     "end_time": "2025-06-12T17:55:08.182247Z",
     "start_time": "2025-06-12T17:55:07.390764Z"
    }
   },
   "cell_type": "code",
   "source": [
    "import pandas as pd\n",
    "import pickle\n",
    "import numpy as np\n",
    "import joblib\n",
    "from scipy import sparse\n",
    "\n",
    "# load labels for all vectorization methods - same for all\n",
    "df = pd.read_csv(\"../00_data_cleaning/out/20newsgroup_preprocessed.csv\")\n",
    "labels_df = df[\"target\"]\n",
    "\n",
    "\n",
    "# TF-IDF vectors from NPZ file\n",
    "with open(\"../01_vectorization/out/tf_idf/X_tfidf.npz\", \"rb\") as f:\n",
    "    X_tfidf = pickle.load(f)\n",
    "\n",
    "# Doc2Vec vectors from NPY file\n",
    "with open(\"../01_vectorization/out/doc2vec/d2v_vectors.npy\", \"rb\") as f:\n",
    "    X_doc2vec = np.load(f)\n",
    "\n",
    "# SBERT vectors from NPY file\n",
    "with open(\"../01_vectorization/out/sbert/sbert_vectors.npy\", \"rb\") as f:\n",
    "    X_sbert = np.load(f)\n",
    "\n",
    "\n",
    "print(\"\\nTF-IDF matrix shape:\", X_tfidf.shape)\n",
    "print(\"\\nDoc2Vec matrix shape:\", X_doc2vec.shape)\n",
    "print(\"\\nSBERT matrix shape:\", X_sbert.shape)"
   ],
   "id": "c8cca7e9185dd925",
   "outputs": [
    {
     "name": "stdout",
     "output_type": "stream",
     "text": [
      "\n",
      "TF-IDF matrix shape: (18846, 50)\n",
      "\n",
      "Doc2Vec matrix shape: (18846, 100)\n",
      "\n",
      "SBERT matrix shape: (18846, 384)\n"
     ]
    }
   ],
   "execution_count": 1
  },
  {
   "metadata": {},
   "cell_type": "markdown",
   "source": "# train/validate/test split & scaling",
   "id": "a7fe504f474633dc"
  },
  {
   "metadata": {
    "ExecuteTime": {
     "end_time": "2025-06-12T17:55:11.789696Z",
     "start_time": "2025-06-12T17:55:10.676444Z"
    }
   },
   "cell_type": "code",
   "source": [
    "from utils import train_val_test_split\n",
    "\n",
    "# all splits: train 0.7, val 0.15, test 0.15\n",
    "test_size = val_size = 0.15\n",
    "shuffle = True\n",
    "stratify = labels_df\n",
    "rnd = 42\n",
    "\n",
    "# TF-IDF\n",
    "X_TF_train, X_TF_val, X_TF_test, y_TF_train, y_TF_val, y_TF_test = train_val_test_split(\n",
    "    X_tfidf,\n",
    "    labels_df,\n",
    "    test_size=test_size,\n",
    "    random_state=rnd,\n",
    "    shuffle=shuffle,\n",
    "    stratify=stratify,\n",
    ")\n",
    "\n",
    "# Doc2Vec\n",
    "X_D2_train, X_D2_val, X_D2_test, y_D2_train, y_D2_val, y_D2_test = train_val_test_split(\n",
    "    X_doc2vec,\n",
    "    labels_df,\n",
    "    test_size=test_size,\n",
    "    random_state=rnd,\n",
    "    shuffle=shuffle,\n",
    "    stratify=stratify,\n",
    ")\n",
    "\n",
    "# SBERT\n",
    "X_SBERT_train, X_SBERT_val, X_SBERT_test, y_SBERT_train, y_SBERT_val, y_SBERT_test = (\n",
    "    train_val_test_split(\n",
    "        X_sbert,\n",
    "        labels_df,\n",
    "        test_size=test_size,\n",
    "        random_state=rnd,\n",
    "        shuffle=shuffle,\n",
    "        stratify=stratify,\n",
    "    )\n",
    ")\n",
    "\n",
    "# TODO: scaling? (e.g. StandardScaler, MinMaxScaler, etc. but not mixing splits with test to avoid data leakage)"
   ],
   "id": "e4ea7be6c39c58e9",
   "outputs": [],
   "execution_count": 2
  },
  {
   "metadata": {},
   "cell_type": "markdown",
   "source": "# SVM",
   "id": "517ab89d439ecf20"
  },
  {
   "metadata": {
    "ExecuteTime": {
     "end_time": "2025-06-12T17:55:48.342133Z",
     "start_time": "2025-06-12T17:55:13.744544Z"
    }
   },
   "cell_type": "code",
   "source": [
    "from svm import train_svm\n",
    "\n",
    "import os\n",
    "print(os.getcwd())\n",
    "\n",
    "# Train and evaluate SVM for each vectorization method\n",
    "print(\"Training SVM with TF-IDF vectors...\")\n",
    "tfidf_results = train_svm(\n",
    "    X_TF_train, X_TF_val, X_TF_test, y_TF_train, y_TF_val, y_TF_test\n",
    ")\n",
    "\n",
    "# print(\"\\nTraining SVM with Doc2Vec vectors...\")\n",
    "# doc2vec_results = train_svm(\n",
    "#     X_D2_train, X_D2_val, X_D2_test, y_D2_train, y_D2_val, y_D2_test\n",
    "# )\n",
    "\n",
    "# print(\"\\nTraining SVM with SBERT vectors...\")\n",
    "# sbert_results = train_svm(\n",
    "#     X_SBERT_train, X_SBERT_val, X_SBERT_test, y_SBERT_train, y_SBERT_val, y_SBERT_test\n",
    "# )\n",
    "\n",
    "# Access results like this:\n",
    "#(\"\\nTF-IDF Test Report:\")\n",
    "#print(tfidf_results)\n",
    "\n",
    "from sklearn.metrics import f1_score\n",
    "\n",
    "# Convert list of dicts to DataFrame\n",
    "df = pd.DataFrame(tfidf_results)\n",
    "\n",
    "\n",
    "#import matplotlib.pyplot as plt\n",
    "# seaborn as sns\n",
    "\n",
    "#df[\"f1_weighted\"] = df.apply(lambda row: f1_score(row[\"y_true\"], row[\"y_pred\"], average=\"weighted\"), axis=1)\n",
    "\n",
    "\n",
    "# Plot\n",
    "#plt.figure(figsize=(6, 6))\n",
    "#sns.boxplot(data=df, y=\"f1_weighted\", color=\"skyblue\", width=0.3)\n",
    "\n",
    "#plt.ylabel(\"F1 Score (Macro)\")\n",
    "#plt.title(\"SVM Performance Distribution Over 10 Runs\")\n",
    "#plt.ylim(0, 1)  # adjust if needed\n",
    "#plt.grid(axis=\"y\", linestyle=\"--\", alpha=0.7)\n",
    "#plt.tight_layout()\n",
    "#.show()\n",
    "\n"
   ],
   "id": "380ffbe3068aebf1",
   "outputs": [
    {
     "name": "stdout",
     "output_type": "stream",
     "text": [
      "C:\\Users\\fidel\\PycharmProjects\\ML-XAI\\02_classification\n",
      "Training SVM with TF-IDF vectors...\n",
      "C:\\Users\\fidel\\PycharmProjects\\ML-XAI\\02_classification\n",
      "Saving model...\n",
      "Model saved.\n"
     ]
    }
   ],
   "execution_count": 3
  },
  {
   "metadata": {},
   "cell_type": "markdown",
   "source": "# plot SVM\n",
   "id": "766deef486bb43f2"
  },
  {
   "metadata": {},
   "cell_type": "code",
   "outputs": [],
   "execution_count": null,
   "source": [
    "from utils import plot_classification_results\n",
    "\n",
    "# Create dictionaries for results and test data\n",
    "results_dict = {\n",
    "    \"TF-IDF\": tfidf_results,\n",
    "    # \"Doc2Vec\": doc2vec_results,\n",
    "    # \"SBERT\": sbert_results,\n",
    "}\n",
    "\n",
    "X_test_dict = {\"TF-IDF\": X_TF_test}  # , \"Doc2Vec\": X_D2_test, \"SBERT\": X_SBERT_test}\n",
    "\n",
    "y_test_dict = {\"TF-IDF\": y_TF_test}  # , \"Doc2Vec\": y_D2_test, \"SBERT\": y_SBERT_test}\n",
    "\n",
    "# Plot results\n",
    "metrics_df = plot_classification_results(\n",
    "    results_dict,\n",
    "    X_test_dict,\n",
    "    y_test_dict,\n",
    "    save_path=\"classification_results.png\",  # Optional: save plot to file\n",
    ")\n",
    "\n",
    "# Print detailed metrics\n",
    "print(\"\\nDetailed Performance Metrics:\")\n",
    "print(metrics_df.round(3))"
   ],
   "id": "3d5e70bde7a1d32f"
  },
  {
   "metadata": {},
   "cell_type": "markdown",
   "source": "# MLPClassifier",
   "id": "80db5f269eb8a6b9"
  },
  {
   "metadata": {},
   "cell_type": "code",
   "outputs": [],
   "execution_count": null,
   "source": "",
   "id": "5ffc439461707042"
  },
  {
   "metadata": {},
   "cell_type": "markdown",
   "source": "# Decision Tree",
   "id": "dcd8f140aa119178"
  },
  {
   "metadata": {},
   "cell_type": "code",
   "outputs": [],
   "execution_count": null,
   "source": "",
   "id": "4968dbc5d14c90ec"
  }
 ],
 "metadata": {
  "kernelspec": {
   "display_name": ".venv",
   "language": "python",
   "name": "python3"
  },
  "language_info": {
   "codemirror_mode": {
    "name": "ipython",
    "version": 3
   },
   "file_extension": ".py",
   "mimetype": "text/x-python",
   "name": "python",
   "nbconvert_exporter": "python",
   "pygments_lexer": "ipython3",
   "version": "3.10.11"
  }
 },
 "nbformat": 4,
 "nbformat_minor": 5
}
