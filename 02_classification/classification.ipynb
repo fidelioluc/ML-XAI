{
 "cells": [
  {
   "cell_type": "markdown",
   "id": "65e67224",
   "metadata": {},
   "source": [
    "# import vectors"
   ]
  },
  {
   "cell_type": "code",
   "execution_count": null,
   "id": "c41ddb86",
   "metadata": {},
   "outputs": [
    {
     "name": "stdout",
     "output_type": "stream",
     "text": [
      "                target_name\n",
      "0          rec.sport.hockey\n",
      "1  comp.sys.ibm.pc.hardware\n",
      "2     talk.politics.mideast\n",
      "3  comp.sys.ibm.pc.hardware\n",
      "4     comp.sys.mac.hardware\n"
     ]
    },
    {
     "ename": "FileNotFoundError",
     "evalue": "[Errno 2] No such file or directory: '../01_vectorization/vectorization_artifacts/tf_idf/X_tfidf.npz'",
     "output_type": "error",
     "traceback": [
      "\u001b[1;31m---------------------------------------------------------------------------\u001b[0m",
      "\u001b[1;31mFileNotFoundError\u001b[0m                         Traceback (most recent call last)",
      "Cell \u001b[1;32mIn[2], line 19\u001b[0m\n\u001b[0;32m     16\u001b[0m     labels_df \u001b[38;5;241m=\u001b[39m pd\u001b[38;5;241m.\u001b[39mDataFrame(pickle\u001b[38;5;241m.\u001b[39mload(f))\n\u001b[0;32m     18\u001b[0m \u001b[38;5;66;03m# Load TF-IDF vectors from NPZ file\u001b[39;00m\n\u001b[1;32m---> 19\u001b[0m X_tfidf \u001b[38;5;241m=\u001b[39m \u001b[43msparse\u001b[49m\u001b[38;5;241;43m.\u001b[39;49m\u001b[43mload_npz\u001b[49m\u001b[43m(\u001b[49m\n\u001b[0;32m     20\u001b[0m \u001b[43m    \u001b[49m\u001b[38;5;124;43m\"\u001b[39;49m\u001b[38;5;124;43m../01_vectorization/vectorization_artifacts/tf_idf/X_tfidf.npz\u001b[39;49m\u001b[38;5;124;43m\"\u001b[39;49m\n\u001b[0;32m     21\u001b[0m \u001b[43m)\u001b[49m\n\u001b[0;32m     23\u001b[0m \u001b[38;5;28mprint\u001b[39m(labels_df\u001b[38;5;241m.\u001b[39mhead())\n\u001b[0;32m     24\u001b[0m \u001b[38;5;28mprint\u001b[39m(\u001b[38;5;124m\"\u001b[39m\u001b[38;5;130;01m\\n\u001b[39;00m\u001b[38;5;124mTF-IDF matrix shape:\u001b[39m\u001b[38;5;124m\"\u001b[39m, X_tfidf\u001b[38;5;241m.\u001b[39mshape)\n",
      "File \u001b[1;32mc:\\Users\\jonas\\OneDrive\\Desktop\\Studium_OvGU\\Master\\SoSe25\\ML\\XAI\\ML-XAI\\.venv\\lib\\site-packages\\scipy\\sparse\\_matrix_io.py:134\u001b[0m, in \u001b[0;36mload_npz\u001b[1;34m(file)\u001b[0m\n\u001b[0;32m     80\u001b[0m \u001b[38;5;28;01mdef\u001b[39;00m\u001b[38;5;250m \u001b[39m\u001b[38;5;21mload_npz\u001b[39m(file):\n\u001b[0;32m     81\u001b[0m \u001b[38;5;250m    \u001b[39m\u001b[38;5;124;03m\"\"\" Load a sparse array/matrix from a file using ``.npz`` format.\u001b[39;00m\n\u001b[0;32m     82\u001b[0m \n\u001b[0;32m     83\u001b[0m \u001b[38;5;124;03m    Parameters\u001b[39;00m\n\u001b[1;32m   (...)\u001b[0m\n\u001b[0;32m    132\u001b[0m \u001b[38;5;124;03m    >>> sparse_array = sp.sparse.csr_array(tmp)\u001b[39;00m\n\u001b[0;32m    133\u001b[0m \u001b[38;5;124;03m    \"\"\"\u001b[39;00m\n\u001b[1;32m--> 134\u001b[0m     \u001b[38;5;28;01mwith\u001b[39;00m np\u001b[38;5;241m.\u001b[39mload(file, \u001b[38;5;241m*\u001b[39m\u001b[38;5;241m*\u001b[39mPICKLE_KWARGS) \u001b[38;5;28;01mas\u001b[39;00m loaded:\n\u001b[0;32m    135\u001b[0m         sparse_format \u001b[38;5;241m=\u001b[39m loaded\u001b[38;5;241m.\u001b[39mget(\u001b[38;5;124m'\u001b[39m\u001b[38;5;124mformat\u001b[39m\u001b[38;5;124m'\u001b[39m)\n\u001b[0;32m    136\u001b[0m         \u001b[38;5;28;01mif\u001b[39;00m sparse_format \u001b[38;5;129;01mis\u001b[39;00m \u001b[38;5;28;01mNone\u001b[39;00m:\n",
      "File \u001b[1;32mc:\\Users\\jonas\\OneDrive\\Desktop\\Studium_OvGU\\Master\\SoSe25\\ML\\XAI\\ML-XAI\\.venv\\lib\\site-packages\\numpy\\lib\\npyio.py:427\u001b[0m, in \u001b[0;36mload\u001b[1;34m(file, mmap_mode, allow_pickle, fix_imports, encoding, max_header_size)\u001b[0m\n\u001b[0;32m    425\u001b[0m     own_fid \u001b[38;5;241m=\u001b[39m \u001b[38;5;28;01mFalse\u001b[39;00m\n\u001b[0;32m    426\u001b[0m \u001b[38;5;28;01melse\u001b[39;00m:\n\u001b[1;32m--> 427\u001b[0m     fid \u001b[38;5;241m=\u001b[39m stack\u001b[38;5;241m.\u001b[39menter_context(\u001b[38;5;28;43mopen\u001b[39;49m\u001b[43m(\u001b[49m\u001b[43mos_fspath\u001b[49m\u001b[43m(\u001b[49m\u001b[43mfile\u001b[49m\u001b[43m)\u001b[49m\u001b[43m,\u001b[49m\u001b[43m \u001b[49m\u001b[38;5;124;43m\"\u001b[39;49m\u001b[38;5;124;43mrb\u001b[39;49m\u001b[38;5;124;43m\"\u001b[39;49m\u001b[43m)\u001b[49m)\n\u001b[0;32m    428\u001b[0m     own_fid \u001b[38;5;241m=\u001b[39m \u001b[38;5;28;01mTrue\u001b[39;00m\n\u001b[0;32m    430\u001b[0m \u001b[38;5;66;03m# Code to distinguish from NumPy binary files and pickles.\u001b[39;00m\n",
      "\u001b[1;31mFileNotFoundError\u001b[0m: [Errno 2] No such file or directory: '../01_vectorization/vectorization_artifacts/tf_idf/X_tfidf.npz'"
     ]
    }
   ],
   "source": [
    "import sys\n",
    "import os\n",
    "import pandas as pd\n",
    "import pickle\n",
    "from scipy import sparse\n",
    "\n",
    "\n",
    "# Load labels from pickle file\n",
    "with open(\"../01_vectorization/vectorization_artifacts/tf_idf/labels.pkl\", \"rb\") as f:\n",
    "    labels_df = pd.DataFrame(pickle.load(f))\n",
    "\n",
    "print(labels_df.head())\n",
    "\n",
    "# Load TF-IDF vectors from NPZ file\n",
    "X_tfidf = sparse.load_npz(\n",
    "    \"../01_vectorization/vectorization_artifacts/tf_idf/X_tfidf.npz\"\n",
    ")\n",
    "\n",
    "print(labels_df.head())\n",
    "print(\"\\nTF-IDF matrix shape:\", X_tfidf.shape)"
   ]
  }
 ],
 "metadata": {
  "kernelspec": {
   "display_name": ".venv",
   "language": "python",
   "name": "python3"
  },
  "language_info": {
   "codemirror_mode": {
    "name": "ipython",
    "version": 3
   },
   "file_extension": ".py",
   "mimetype": "text/x-python",
   "name": "python",
   "nbconvert_exporter": "python",
   "pygments_lexer": "ipython3",
   "version": "3.10.11"
  }
 },
 "nbformat": 4,
 "nbformat_minor": 5
}
