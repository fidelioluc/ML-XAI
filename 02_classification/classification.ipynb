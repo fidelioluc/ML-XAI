{
 "cells": [
  {
   "cell_type": "markdown",
   "id": "65e67224",
   "metadata": {},
   "source": [
    "# import vectors"
   ]
  },
  {
   "cell_type": "code",
   "execution_count": null,
   "id": "c41ddb86",
   "metadata": {},
   "outputs": [
    {
     "name": "stdout",
     "output_type": "stream",
     "text": [
      "0    10\n",
      "1     3\n",
      "2    17\n",
      "3     3\n",
      "4     4\n",
      "Name: target, dtype: int64\n"
     ]
    }
   ],
   "source": [
    "import pandas as pd\n",
    "import pickle\n",
    "from scipy import sparse\n",
    "\n",
    "df = pd.read_csv(\"../00_data_cleaning/out/20newsgroup_preprocessed.csv\")\n",
    "labels_df = df[\"target\"]\n",
    "\n",
    "# Load TF-IDF vectors from NPZ file\n",
    "with open(\"../01_vectorization/out/tf_idf/X_tfidf.npz\", \"rb\") as f:\n",
    "    X_tfidf = pickle.load(f)\n",
    "\n",
    "\n",
    "# print(\"\\nTF-IDF matrix shape:\", X_tfidf.shape)"
   ]
  },
  {
   "cell_type": "markdown",
   "id": "eedf5baa",
   "metadata": {},
   "source": [
    "# import Doc2Vec"
   ]
  },
  {
   "cell_type": "code",
   "execution_count": null,
   "id": "d366a059",
   "metadata": {},
   "outputs": [],
   "source": [
    "# TODO: import doc2vec & sbert vectors"
   ]
  },
  {
   "cell_type": "markdown",
   "id": "cfc47503",
   "metadata": {},
   "source": [
    "train/validate/test split on vectors & scaling"
   ]
  },
  {
   "cell_type": "code",
   "execution_count": null,
   "id": "eb17fee7",
   "metadata": {},
   "outputs": [],
   "source": [
    "from sklearn.model_selection import train_test_split\n",
    "\n",
    "\n",
    "# train 0.7, val 0.15, test 0.15\n",
    "X_train, X_val_test, y_train, y_val_test = train_test_split(\n",
    "    X_tfidf, labels_df, test_size=0.7, random_state=42, shuffle=True, stratify=labels_df\n",
    ")\n",
    "\n",
    "X_val, X_test, y_val, y_test = train_test_split(\n",
    "    X_val_test,\n",
    "    y_val_test,\n",
    "    test_size=0.5,\n",
    "    random_state=42,\n",
    "    shuffle=True,\n",
    "    stratify=y_val_test,\n",
    ")"
   ]
  },
  {
   "cell_type": "markdown",
   "id": "9ad3941b",
   "metadata": {},
   "source": [
    "# SVM"
   ]
  },
  {
   "cell_type": "code",
   "execution_count": null,
   "id": "bba8f2f4",
   "metadata": {},
   "outputs": [],
   "source": [
    "import svm"
   ]
  },
  {
   "cell_type": "markdown",
   "id": "31f41398",
   "metadata": {},
   "source": [
    "# MLPClassifier"
   ]
  },
  {
   "cell_type": "code",
   "execution_count": null,
   "id": "7c40095f",
   "metadata": {},
   "outputs": [],
   "source": []
  },
  {
   "cell_type": "markdown",
   "id": "96369b7a",
   "metadata": {},
   "source": [
    "# Decision Tree"
   ]
  },
  {
   "cell_type": "code",
   "execution_count": null,
   "id": "7368e4f9",
   "metadata": {},
   "outputs": [],
   "source": []
  }
 ],
 "metadata": {
  "kernelspec": {
   "display_name": ".venv",
   "language": "python",
   "name": "python3"
  },
  "language_info": {
   "codemirror_mode": {
    "name": "ipython",
    "version": 3
   },
   "file_extension": ".py",
   "mimetype": "text/x-python",
   "name": "python",
   "nbconvert_exporter": "python",
   "pygments_lexer": "ipython3",
   "version": "3.10.11"
  }
 },
 "nbformat": 4,
 "nbformat_minor": 5
}
