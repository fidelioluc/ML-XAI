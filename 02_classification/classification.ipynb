{
 "cells": [
  {
   "cell_type": "markdown",
   "id": "65e67224",
   "metadata": {},
   "source": [
    "# import TF-IDF, Doc2Vec, SBERT"
   ]
  },
  {
   "cell_type": "code",
   "execution_count": 1,
   "id": "c41ddb86",
   "metadata": {},
   "outputs": [
    {
     "name": "stdout",
     "output_type": "stream",
     "text": [
      "\n",
      "TF-IDF matrix shape: (18846, 35000)\n",
      "\n",
      "Doc2Vec matrix shape: (18846, 100)\n",
      "\n",
      "SBERT matrix shape: (18846, 384)\n"
     ]
    }
   ],
   "source": [
    "import pandas as pd\n",
    "import pickle\n",
    "import numpy as np\n",
    "from scipy import sparse\n",
    "\n",
    "# load labels for all vectorization methods - same for all\n",
    "df = pd.read_csv(\"../00_data_cleaning/out/20newsgroup_preprocessed.csv\")\n",
    "labels_df = df[\"target\"]\n",
    "\n",
    "\n",
    "# TF-IDF vectors from NPZ file\n",
    "with open(\"../01_vectorization/out/tf_idf/X_tfidf.npz\", \"rb\") as f:\n",
    "    X_tfidf = pickle.load(f)\n",
    "\n",
    "# Doc2Vec vectors from NPY file\n",
    "with open(\"../01_vectorization/out/doc2vec/d2v_vectors.npy\", \"rb\") as f:\n",
    "    X_doc2vec = np.load(f)\n",
    "\n",
    "# SBERT vectors from NPY file\n",
    "with open(\"../01_vectorization/out/sbert/sbert_vectors.npy\", \"rb\") as f:\n",
    "    X_sbert = np.load(f)\n",
    "\n",
    "\n",
    "print(\"\\nTF-IDF matrix shape:\", X_tfidf.shape)\n",
    "print(\"\\nDoc2Vec matrix shape:\", X_doc2vec.shape)\n",
    "print(\"\\nSBERT matrix shape:\", X_sbert.shape)"
   ]
  },
  {
   "cell_type": "markdown",
   "id": "cfc47503",
   "metadata": {},
   "source": [
    "# train/validate/test split & scaling"
   ]
  },
  {
   "cell_type": "code",
   "execution_count": 2,
   "id": "eb17fee7",
   "metadata": {},
   "outputs": [],
   "source": [
    "from utils import train_val_test_split\n",
    "\n",
    "# all splits: train 0.7, val 0.15, test 0.15\n",
    "test_size = val_size = 0.15\n",
    "shuffle = True\n",
    "stratify = labels_df\n",
    "rnd = 42\n",
    "\n",
    "# TF-IDF\n",
    "X_TF_train, X_TF_val, X_TF_test, y_TF_train, y_TF_val, y_TF_test = train_val_test_split(\n",
    "    X_tfidf,\n",
    "    labels_df,\n",
    "    test_size=test_size,\n",
    "    random_state=rnd,\n",
    "    shuffle=shuffle,\n",
    "    stratify=stratify,\n",
    ")\n",
    "\n",
    "# Doc2Vec\n",
    "X_D2_train, X_D2_val, X_D2_test, y_D2_train, y_D2_val, y_D2_test = train_val_test_split(\n",
    "    X_doc2vec,\n",
    "    labels_df,\n",
    "    test_size=test_size,\n",
    "    random_state=rnd,\n",
    "    shuffle=shuffle,\n",
    "    stratify=stratify,\n",
    ")\n",
    "\n",
    "# SBERT\n",
    "X_SBERT_train, X_SBERT_val, X_SBERT_test, y_SBERT_train, y_SBERT_val, y_SBERT_test = (\n",
    "    train_val_test_split(\n",
    "        X_sbert,\n",
    "        labels_df,\n",
    "        test_size=test_size,\n",
    "        random_state=rnd,\n",
    "        shuffle=shuffle,\n",
    "        stratify=stratify,\n",
    "    )\n",
    ")\n",
    "\n",
    "# TODO: scaling? (e.g. StandardScaler, MinMaxScaler, etc. but not mixing splits with test to avoid data leakage)"
   ]
  },
  {
   "cell_type": "markdown",
   "id": "9ad3941b",
   "metadata": {},
   "source": [
    "# SVM"
   ]
  },
  {
   "cell_type": "code",
   "execution_count": 3,
   "id": "bba8f2f4",
   "metadata": {},
   "outputs": [
    {
     "name": "stdout",
     "output_type": "stream",
     "text": [
      "Training SVM with TF-IDF vectors...\n",
      "Fitting 3 folds for each of 2 candidates, totalling 6 fits\n",
      "\n",
      "TF-IDF Test Report:\n",
      "              precision    recall  f1-score   support\n",
      "\n",
      "           0       0.60      0.57      0.58       120\n",
      "           1       0.63      0.69      0.66       146\n",
      "           2       0.66      0.66      0.66       148\n",
      "           3       0.63      0.64      0.63       147\n",
      "           4       0.75      0.65      0.69       144\n",
      "           5       0.84      0.76      0.80       148\n",
      "           6       0.75      0.67      0.71       146\n",
      "           7       0.66      0.74      0.70       149\n",
      "           8       0.48      0.75      0.59       149\n",
      "           9       0.83      0.83      0.83       149\n",
      "          10       0.93      0.83      0.88       150\n",
      "          11       0.88      0.79      0.83       149\n",
      "          12       0.68      0.72      0.70       148\n",
      "          13       0.81      0.85      0.83       149\n",
      "          14       0.74      0.75      0.75       148\n",
      "          15       0.74      0.81      0.78       150\n",
      "          16       0.69      0.71      0.70       136\n",
      "          17       0.89      0.72      0.80       141\n",
      "          18       0.75      0.72      0.74       116\n",
      "          19       0.65      0.38      0.48        94\n",
      "\n",
      "    accuracy                           0.72      2827\n",
      "   macro avg       0.73      0.71      0.72      2827\n",
      "weighted avg       0.73      0.72      0.72      2827\n",
      "\n"
     ]
    }
   ],
   "source": [
    "from svm import train_svm\n",
    "\n",
    "# Train and evaluate SVM for each vectorization method\n",
    "print(\"Training SVM with TF-IDF vectors...\")\n",
    "tfidf_results = train_svm(\n",
    "    X_TF_train, X_TF_val, X_TF_test, y_TF_train, y_TF_val, y_TF_test\n",
    ")\n",
    "\n",
    "# print(\"\\nTraining SVM with Doc2Vec vectors...\")\n",
    "# doc2vec_results = train_svm(\n",
    "#     X_D2_train, X_D2_val, X_D2_test, y_D2_train, y_D2_val, y_D2_test\n",
    "# )\n",
    "\n",
    "# print(\"\\nTraining SVM with SBERT vectors...\")\n",
    "# sbert_results = train_svm(\n",
    "#     X_SBERT_train, X_SBERT_val, X_SBERT_test, y_SBERT_train, y_SBERT_val, y_SBERT_test\n",
    "# )\n",
    "\n",
    "# Access results like this:\n",
    "print(\"\\nTF-IDF Test Report:\")\n",
    "print(tfidf_results[\"test_report\"])"
   ]
  },
  {
   "cell_type": "markdown",
   "id": "72667598",
   "metadata": {},
   "source": [
    "# plot SVM\n"
   ]
  },
  {
   "cell_type": "code",
   "execution_count": 4,
   "id": "095ded5f",
   "metadata": {},
   "outputs": [
    {
     "name": "stdout",
     "output_type": "stream",
     "text": [
      "\n",
      "Detailed Performance Metrics:\n",
      "   Accuracy  Macro F1  Method\n",
      "0      0.72      0.72  TF-IDF\n"
     ]
    }
   ],
   "source": [
    "from utils import plot_classification_results\n",
    "\n",
    "# Create dictionaries for results and test data\n",
    "results_dict = {\n",
    "    \"TF-IDF\": tfidf_results,\n",
    "    # \"Doc2Vec\": doc2vec_results,\n",
    "    # \"SBERT\": sbert_results,\n",
    "}\n",
    "\n",
    "X_test_dict = {\"TF-IDF\": X_TF_test}  # , \"Doc2Vec\": X_D2_test, \"SBERT\": X_SBERT_test}\n",
    "\n",
    "y_test_dict = {\"TF-IDF\": y_TF_test}  # , \"Doc2Vec\": y_D2_test, \"SBERT\": y_SBERT_test}\n",
    "\n",
    "# Plot results\n",
    "metrics_df = plot_classification_results(\n",
    "    results_dict,\n",
    "    X_test_dict,\n",
    "    y_test_dict,\n",
    "    save_path=\"classification_results.png\",  # Optional: save plot to file\n",
    ")\n",
    "\n",
    "# Print detailed metrics\n",
    "print(\"\\nDetailed Performance Metrics:\")\n",
    "print(metrics_df.round(3))"
   ]
  },
  {
   "cell_type": "markdown",
   "id": "31f41398",
   "metadata": {},
   "source": [
    "# MLPClassifier"
   ]
  },
  {
   "cell_type": "code",
   "execution_count": null,
   "id": "7c40095f",
   "metadata": {},
   "outputs": [],
   "source": []
  },
  {
   "cell_type": "markdown",
   "id": "96369b7a",
   "metadata": {},
   "source": [
    "# Decision Tree"
   ]
  },
  {
   "cell_type": "code",
   "execution_count": null,
   "id": "7368e4f9",
   "metadata": {},
   "outputs": [],
   "source": []
  }
 ],
 "metadata": {
  "kernelspec": {
   "display_name": ".venv",
   "language": "python",
   "name": "python3"
  },
  "language_info": {
   "codemirror_mode": {
    "name": "ipython",
    "version": 3
   },
   "file_extension": ".py",
   "mimetype": "text/x-python",
   "name": "python",
   "nbconvert_exporter": "python",
   "pygments_lexer": "ipython3",
   "version": "3.10.11"
  }
 },
 "nbformat": 4,
 "nbformat_minor": 5
}
